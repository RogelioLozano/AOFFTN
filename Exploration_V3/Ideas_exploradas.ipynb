{
 "cells": [
  {
   "cell_type": "markdown",
   "metadata": {},
   "source": [
    "First you have to define what you mean by correlation. That will depend on your objectives and data, it’s not a statistical question.\n",
    "\n",
    "The statistical concept of correlation refers to a joint probability distribution from which two variables are drawn. With non-stationary time series, successive values don’t come from the same distribution, so there’s no concept of correlation.\n",
    "\n",
    "One possibility is to transform the time series so they are stationary. This can sometimes be done by differencing. So instead of asking for the correlation between the S&P500 value and the 10-year treasury interest rate, which does not exist, you ask for the correlation between the S&P500 return and the change in the 10-year treasury yield. This may or may not give insight to your investigation.\n",
    "\n",
    "Another possibility is to look for another type of relation than correlation. Cointegration is one common approach.\n",
    "\n",
    "In many cases it helps to start with what you want to know. For example, suppose you are studying the relation between average global temperatures and frequency of natural disasters like hurricanes, droughts and wildfires. Neither time series is stationary because the climate is changing. Calculating a correlation coefficient between them is therefore not meaningful.\n",
    "\n",
    "What you really want to know, presumably, is how predicted future warming should influence predictions of future natural disasters. A serious answer to this question probably requires extensive climate modeling rather than simple statistical analysis of historical data—but simple statistical analysis can still serve as a sanity check on models and provide prior beliefs.\n",
    "\n",
    "In this case you might want to take the time series and global components out of the analysis. You could just have a list of natural disasters, and for each one what the local temperature at event initiation (not always a clear concept) was relative to the mean for that location and date. This removes the problem of nonstationarity. Unfortunately it also removes any global or delayed effect of warming, so it could be very misleading. But it’s simple, statistical and objective; and if a model predicts very different results, the modeler should be able to explain why."
   ]
  },
  {
   "cell_type": "code",
   "execution_count": 1,
   "metadata": {},
   "outputs": [],
   "source": [
    "import pandas as pd\n",
    "import numpy as np\n",
    "import os \n",
    "import networkx as nx\n",
    "import seaborn as sns\n",
    "import matplotlib.pyplot as plt\n",
    "import sys, os"
   ]
  },
  {
   "cell_type": "code",
   "execution_count": 2,
   "metadata": {},
   "outputs": [],
   "source": [
    "sys.path.insert(1, os.path.join(sys.path[0], '../../../openAi/TS_analysis_TOPIC9/'))"
   ]
  },
  {
   "cell_type": "code",
   "execution_count": 3,
   "metadata": {},
   "outputs": [],
   "source": [
    "from pyts_utils import descriptive_tools\n",
    "from sklearn.decomposition import PCA"
   ]
  },
  {
   "cell_type": "code",
   "execution_count": 4,
   "metadata": {},
   "outputs": [],
   "source": [
    "af=pd.read_csv('antifragilidades_datasets/af.csv')"
   ]
  },
  {
   "cell_type": "code",
   "execution_count": 5,
   "metadata": {},
   "outputs": [
    {
     "data": {
      "text/html": [
       "<div>\n",
       "<style scoped>\n",
       "    .dataframe tbody tr th:only-of-type {\n",
       "        vertical-align: middle;\n",
       "    }\n",
       "\n",
       "    .dataframe tbody tr th {\n",
       "        vertical-align: top;\n",
       "    }\n",
       "\n",
       "    .dataframe thead th {\n",
       "        text-align: right;\n",
       "    }\n",
       "</style>\n",
       "<table border=\"1\" class=\"dataframe\">\n",
       "  <thead>\n",
       "    <tr style=\"text-align: right;\">\n",
       "      <th></th>\n",
       "      <th>af_in_pr</th>\n",
       "      <th>af_in_vl</th>\n",
       "      <th>af_ex_pr</th>\n",
       "      <th>af_ex_vl</th>\n",
       "      <th>af_in_pr2</th>\n",
       "      <th>af_in_vl2</th>\n",
       "      <th>af_ex_pr2</th>\n",
       "      <th>af_ex_vl2</th>\n",
       "    </tr>\n",
       "  </thead>\n",
       "  <tbody>\n",
       "    <tr>\n",
       "      <th>af_in_pr</th>\n",
       "      <td>1.000000</td>\n",
       "      <td>0.671100</td>\n",
       "      <td>-0.047607</td>\n",
       "      <td>-0.011621</td>\n",
       "      <td>0.957643</td>\n",
       "      <td>0.785956</td>\n",
       "      <td>-0.036705</td>\n",
       "      <td>-0.024999</td>\n",
       "    </tr>\n",
       "    <tr>\n",
       "      <th>af_in_vl</th>\n",
       "      <td>0.671100</td>\n",
       "      <td>1.000000</td>\n",
       "      <td>-0.008078</td>\n",
       "      <td>0.026799</td>\n",
       "      <td>0.774187</td>\n",
       "      <td>0.959194</td>\n",
       "      <td>-0.003471</td>\n",
       "      <td>0.016606</td>\n",
       "    </tr>\n",
       "    <tr>\n",
       "      <th>af_ex_pr</th>\n",
       "      <td>-0.047607</td>\n",
       "      <td>-0.008078</td>\n",
       "      <td>1.000000</td>\n",
       "      <td>0.692871</td>\n",
       "      <td>-0.038237</td>\n",
       "      <td>-0.015104</td>\n",
       "      <td>0.957657</td>\n",
       "      <td>0.802626</td>\n",
       "    </tr>\n",
       "    <tr>\n",
       "      <th>af_ex_vl</th>\n",
       "      <td>-0.011621</td>\n",
       "      <td>0.026799</td>\n",
       "      <td>0.692871</td>\n",
       "      <td>1.000000</td>\n",
       "      <td>-0.002612</td>\n",
       "      <td>0.016074</td>\n",
       "      <td>0.789997</td>\n",
       "      <td>0.957202</td>\n",
       "    </tr>\n",
       "    <tr>\n",
       "      <th>af_in_pr2</th>\n",
       "      <td>0.957643</td>\n",
       "      <td>0.774187</td>\n",
       "      <td>-0.038237</td>\n",
       "      <td>-0.002612</td>\n",
       "      <td>1.000000</td>\n",
       "      <td>0.823725</td>\n",
       "      <td>-0.028250</td>\n",
       "      <td>-0.014912</td>\n",
       "    </tr>\n",
       "    <tr>\n",
       "      <th>af_in_vl2</th>\n",
       "      <td>0.785956</td>\n",
       "      <td>0.959194</td>\n",
       "      <td>-0.015104</td>\n",
       "      <td>0.016074</td>\n",
       "      <td>0.823725</td>\n",
       "      <td>1.000000</td>\n",
       "      <td>-0.009681</td>\n",
       "      <td>0.004890</td>\n",
       "    </tr>\n",
       "    <tr>\n",
       "      <th>af_ex_pr2</th>\n",
       "      <td>-0.036705</td>\n",
       "      <td>-0.003471</td>\n",
       "      <td>0.957657</td>\n",
       "      <td>0.789997</td>\n",
       "      <td>-0.028250</td>\n",
       "      <td>-0.009681</td>\n",
       "      <td>1.000000</td>\n",
       "      <td>0.831397</td>\n",
       "    </tr>\n",
       "    <tr>\n",
       "      <th>af_ex_vl2</th>\n",
       "      <td>-0.024999</td>\n",
       "      <td>0.016606</td>\n",
       "      <td>0.802626</td>\n",
       "      <td>0.957202</td>\n",
       "      <td>-0.014912</td>\n",
       "      <td>0.004890</td>\n",
       "      <td>0.831397</td>\n",
       "      <td>1.000000</td>\n",
       "    </tr>\n",
       "  </tbody>\n",
       "</table>\n",
       "</div>"
      ],
      "text/plain": [
       "           af_in_pr  af_in_vl  af_ex_pr  af_ex_vl  af_in_pr2  af_in_vl2  \\\n",
       "af_in_pr   1.000000  0.671100 -0.047607 -0.011621   0.957643   0.785956   \n",
       "af_in_vl   0.671100  1.000000 -0.008078  0.026799   0.774187   0.959194   \n",
       "af_ex_pr  -0.047607 -0.008078  1.000000  0.692871  -0.038237  -0.015104   \n",
       "af_ex_vl  -0.011621  0.026799  0.692871  1.000000  -0.002612   0.016074   \n",
       "af_in_pr2  0.957643  0.774187 -0.038237 -0.002612   1.000000   0.823725   \n",
       "af_in_vl2  0.785956  0.959194 -0.015104  0.016074   0.823725   1.000000   \n",
       "af_ex_pr2 -0.036705 -0.003471  0.957657  0.789997  -0.028250  -0.009681   \n",
       "af_ex_vl2 -0.024999  0.016606  0.802626  0.957202  -0.014912   0.004890   \n",
       "\n",
       "           af_ex_pr2  af_ex_vl2  \n",
       "af_in_pr   -0.036705  -0.024999  \n",
       "af_in_vl   -0.003471   0.016606  \n",
       "af_ex_pr    0.957657   0.802626  \n",
       "af_ex_vl    0.789997   0.957202  \n",
       "af_in_pr2  -0.028250  -0.014912  \n",
       "af_in_vl2  -0.009681   0.004890  \n",
       "af_ex_pr2   1.000000   0.831397  \n",
       "af_ex_vl2   0.831397   1.000000  "
      ]
     },
     "execution_count": 5,
     "metadata": {},
     "output_type": "execute_result"
    }
   ],
   "source": [
    "af.iloc[:,2:].corr()"
   ]
  },
  {
   "cell_type": "markdown",
   "metadata": {},
   "source": [
    "Desde las correlaciones vemos que ex e in contienen informacion distinta matematicamente, sin embargo dado el algoritmo de calculo de antifragilidad, podemos considerar que poseen la misma informacion sobre la antifragilidad de los paises en el tiempo? Entonces nos quedamos solo con ex por tener mas datos. Para conservar la mayor cantidad de informacion de antifragilidad data por volumen o precio, podemos projectar al primer PCA considerando las dimensiones af_ex_pr, af_ex_vl"
   ]
  },
  {
   "cell_type": "code",
   "execution_count": 6,
   "metadata": {},
   "outputs": [],
   "source": [
    "af = af.rename(columns={'Unnamed: 0':'country','Unnamed: 1':'year'})"
   ]
  },
  {
   "cell_type": "code",
   "execution_count": 7,
   "metadata": {},
   "outputs": [],
   "source": [
    "af=af.iloc[:,[0,1,4,5,8,9]]"
   ]
  },
  {
   "cell_type": "code",
   "execution_count": 8,
   "metadata": {},
   "outputs": [
    {
     "data": {
      "text/html": [
       "<div>\n",
       "<style scoped>\n",
       "    .dataframe tbody tr th:only-of-type {\n",
       "        vertical-align: middle;\n",
       "    }\n",
       "\n",
       "    .dataframe tbody tr th {\n",
       "        vertical-align: top;\n",
       "    }\n",
       "\n",
       "    .dataframe thead th {\n",
       "        text-align: right;\n",
       "    }\n",
       "</style>\n",
       "<table border=\"1\" class=\"dataframe\">\n",
       "  <thead>\n",
       "    <tr style=\"text-align: right;\">\n",
       "      <th></th>\n",
       "      <th>af_ex_pr</th>\n",
       "      <th>af_ex_vl</th>\n",
       "      <th>af_ex_pr2</th>\n",
       "      <th>af_ex_vl2</th>\n",
       "    </tr>\n",
       "  </thead>\n",
       "  <tbody>\n",
       "    <tr>\n",
       "      <th>af_ex_pr</th>\n",
       "      <td>1.000000</td>\n",
       "      <td>0.692871</td>\n",
       "      <td>0.957657</td>\n",
       "      <td>0.802626</td>\n",
       "    </tr>\n",
       "    <tr>\n",
       "      <th>af_ex_vl</th>\n",
       "      <td>0.692871</td>\n",
       "      <td>1.000000</td>\n",
       "      <td>0.789997</td>\n",
       "      <td>0.957202</td>\n",
       "    </tr>\n",
       "    <tr>\n",
       "      <th>af_ex_pr2</th>\n",
       "      <td>0.957657</td>\n",
       "      <td>0.789997</td>\n",
       "      <td>1.000000</td>\n",
       "      <td>0.831397</td>\n",
       "    </tr>\n",
       "    <tr>\n",
       "      <th>af_ex_vl2</th>\n",
       "      <td>0.802626</td>\n",
       "      <td>0.957202</td>\n",
       "      <td>0.831397</td>\n",
       "      <td>1.000000</td>\n",
       "    </tr>\n",
       "  </tbody>\n",
       "</table>\n",
       "</div>"
      ],
      "text/plain": [
       "           af_ex_pr  af_ex_vl  af_ex_pr2  af_ex_vl2\n",
       "af_ex_pr   1.000000  0.692871   0.957657   0.802626\n",
       "af_ex_vl   0.692871  1.000000   0.789997   0.957202\n",
       "af_ex_pr2  0.957657  0.789997   1.000000   0.831397\n",
       "af_ex_vl2  0.802626  0.957202   0.831397   1.000000"
      ]
     },
     "execution_count": 8,
     "metadata": {},
     "output_type": "execute_result"
    }
   ],
   "source": [
    "af.iloc[:,2:].corr()"
   ]
  },
  {
   "cell_type": "code",
   "execution_count": 9,
   "metadata": {},
   "outputs": [],
   "source": [
    "toproject_af=af.dropna(axis=0)"
   ]
  },
  {
   "cell_type": "code",
   "execution_count": 41,
   "metadata": {},
   "outputs": [
    {
     "data": {
      "text/plain": [
       "<matplotlib.collections.PathCollection at 0x7f2c740edf90>"
      ]
     },
     "execution_count": 41,
     "metadata": {},
     "output_type": "execute_result"
    },
    {
     "data": {
      "image/png": "[encoded data removed]",
      "text/plain": [
       "<Figure size 432x288 with 1 Axes>"
      ]
     },
     "metadata": {
      "needs_background": "light"
     },
     "output_type": "display_data"
    }
   ],
   "source": [
    "plt.scatter(toproject_af[toproject_af['country']=='Mexico']['af_ex_pr'],toproject_af[toproject_af['country']=='Mexico']['af_ex_vl'])"
   ]
  },
  {
   "cell_type": "code",
   "execution_count": 13,
   "metadata": {},
   "outputs": [
    {
     "data": {
      "text/plain": [
       "<AxesSubplot:xlabel='year'>"
      ]
     },
     "execution_count": 13,
     "metadata": {},
     "output_type": "execute_result"
    },
    {
     "data": {
      "image/png": "[encoded data removed]",
      "text/plain": [
       "<Figure size 432x288 with 1 Axes>"
      ]
     },
     "metadata": {
      "needs_background": "light"
     },
     "output_type": "display_data"
    }
   ],
   "source": [
    "ex_pr['United States of America'].plot()"
   ]
  },
  {
   "cell_type": "code",
   "execution_count": 35,
   "metadata": {},
   "outputs": [],
   "source": [
    "_=af.pivot_table(index='year',columns='country',values='af_ex_pr')"
   ]
  },
  {
   "cell_type": "code",
   "execution_count": 38,
   "metadata": {},
   "outputs": [
    {
     "data": {
      "text/plain": [
       "<AxesSubplot:xlabel='year'>"
      ]
     },
     "execution_count": 38,
     "metadata": {},
     "output_type": "execute_result"
    },
    {
     "data": {
      "image/png": "[encoded data removed]",
      "text/plain": [
       "<Figure size 432x288 with 1 Axes>"
      ]
     },
     "metadata": {
      "needs_background": "light"
     },
     "output_type": "display_data"
    }
   ],
   "source": [
    "_['Canada'].plot()"
   ]
  },
  {
   "cell_type": "code",
   "execution_count": 33,
   "metadata": {},
   "outputs": [],
   "source": [
    "clean_afs['af_ex_pca']=-clean_afs['af_ex_pca']"
   ]
  },
  {
   "cell_type": "code",
   "execution_count": 37,
   "metadata": {},
   "outputs": [
    {
     "data": {
      "text/plain": [
       "<AxesSubplot:xlabel='year'>"
      ]
     },
     "execution_count": 37,
     "metadata": {},
     "output_type": "execute_result"
    },
    {
     "data": {
      "image/png": "[encoded data removed]",
      "text/plain": [
       "<Figure size 432x288 with 1 Axes>"
      ]
     },
     "metadata": {
      "needs_background": "light"
     },
     "output_type": "display_data"
    }
   ],
   "source": [
    "(clean_afs[clean_afs['country']=='Canada'][['year','af_ex_pca']]).plot(x='year',y='af_ex_pca')"
   ]
  },
  {
   "cell_type": "code",
   "execution_count": 17,
   "metadata": {},
   "outputs": [],
   "source": [
    "pca=PCA(n_components=1,).fit(toproject_af.iloc[:,2:],)"
   ]
  },
  {
   "cell_type": "code",
   "execution_count": 18,
   "metadata": {},
   "outputs": [],
   "source": [
    "clean_afs = pca.fit_transform(toproject_af.iloc[:,2:])"
   ]
  },
  {
   "cell_type": "code",
   "execution_count": 19,
   "metadata": {},
   "outputs": [
    {
     "data": {
      "text/plain": [
       "array([0.87781833])"
      ]
     },
     "execution_count": 19,
     "metadata": {},
     "output_type": "execute_result"
    }
   ],
   "source": [
    "pca.explained_variance_ratio_.cumsum()"
   ]
  },
  {
   "cell_type": "code",
   "execution_count": 20,
   "metadata": {},
   "outputs": [],
   "source": [
    "clean_afs = pd.DataFrame(data=clean_afs,columns=['af_ex_pca'])"
   ]
  },
  {
   "cell_type": "code",
   "execution_count": 21,
   "metadata": {},
   "outputs": [],
   "source": [
    "clean_afs['country'] = toproject_af.reset_index()['country']\n",
    "clean_afs['year'] = toproject_af.reset_index()['year']"
   ]
  },
  {
   "cell_type": "code",
   "execution_count": 19,
   "metadata": {},
   "outputs": [],
   "source": [
    "# clean_afs.to_csv('af_ex_pca.csv')"
   ]
  },
  {
   "cell_type": "markdown",
   "metadata": {},
   "source": [
    "Tenemos 184 paises importadores y 244 paises exportadores."
   ]
  },
  {
   "cell_type": "markdown",
   "metadata": {},
   "source": [
    "Podria ser el caso que los paises que tenemos mas paises exportadores que importadores debido a que los paises que exportan se puede suponer que lo hacen porque les conviene y les sobra los suficiente para ademas poder exportar. Los importadores podemos pensar que importan porque lo necesitan? Podria significar que los paises que no tienen muchos registros como importadores podrian ser los NO-fragiles debido a que no necesitan importar cosas para estar bien?? Los paises que aparecen como importadores pocas veces, aparecen como exportadores muchas veces? Existe esa simetria?? O son asimetricos y pasa que aunque aparescan pocas veces como importadores, tambien aparecen pocos registros de ellos como exportadores??"
   ]
  },
  {
   "cell_type": "code",
   "execution_count": 39,
   "metadata": {},
   "outputs": [],
   "source": [
    "ex_pr = af.pivot_table(index='year',columns='country',values='af_ex_pr')"
   ]
  },
  {
   "cell_type": "code",
   "execution_count": 40,
   "metadata": {},
   "outputs": [
    {
     "data": {
      "text/plain": [
       "<AxesSubplot:xlabel='year'>"
      ]
     },
     "execution_count": 40,
     "metadata": {},
     "output_type": "execute_result"
    },
    {
     "data": {
      "image/png": "[encoded data removed]",
      "text/plain": [
       "<Figure size 432x288 with 1 Axes>"
      ]
     },
     "metadata": {
      "needs_background": "light"
     },
     "output_type": "display_data"
    }
   ],
   "source": [
    "ex_pr.plot(legend=False)"
   ]
  },
  {
   "cell_type": "code",
   "execution_count": 62,
   "metadata": {},
   "outputs": [],
   "source": [
    "from sklearn.preprocessing import power_transform, StandardScaler"
   ]
  },
  {
   "cell_type": "code",
   "execution_count": 171,
   "metadata": {},
   "outputs": [
    {
     "name": "stderr",
     "output_type": "stream",
     "text": [
      "/home/rogelio/anaconda3/envs/geopandas_env/lib/python3.7/site-packages/sklearn/preprocessing/_data.py:2995: RuntimeWarning: divide by zero encountered in log\n",
      "  loglike = -n_samples / 2 * np.log(x_trans.var())\n"
     ]
    }
   ],
   "source": [
    "yeo_johnson=power_transform(ex_pr.dropna(axis=1).T,standardize=False)"
   ]
  },
  {
   "cell_type": "code",
   "execution_count": 172,
   "metadata": {},
   "outputs": [],
   "source": [
    "yeo_johnson = pd.DataFrame(data=yeo_johnson,index=ex_pr.dropna(axis=1).columns.values,columns=ex_pr.dropna(axis=1).index)"
   ]
  },
  {
   "cell_type": "code",
   "execution_count": 174,
   "metadata": {},
   "outputs": [
    {
     "data": {
      "text/plain": [
       "El Salvador                 0.404784\n",
       "Kenya                       0.408982\n",
       "Morocco                     0.491556\n",
       "Panama                      0.463772\n",
       "Switzerland                 0.442630\n",
       "United States of America    1.000000\n",
       "Unspecified Area            0.581881\n",
       "Viet Nam                    0.486588\n",
       "Zimbabwe                    0.423555\n",
       "Name: United States of America, dtype: float64"
      ]
     },
     "execution_count": 174,
     "metadata": {},
     "output_type": "execute_result"
    }
   ],
   "source": [
    "yeo_johnson.T.corr()['United States of America'][yeo_johnson.T.corr()['United States of America']>.4]"
   ]
  },
  {
   "cell_type": "code",
   "execution_count": 137,
   "metadata": {},
   "outputs": [
    {
     "data": {
      "text/html": [
       "<div>\n",
       "<style scoped>\n",
       "    .dataframe tbody tr th:only-of-type {\n",
       "        vertical-align: middle;\n",
       "    }\n",
       "\n",
       "    .dataframe tbody tr th {\n",
       "        vertical-align: top;\n",
       "    }\n",
       "\n",
       "    .dataframe thead th {\n",
       "        text-align: right;\n",
       "    }\n",
       "</style>\n",
       "<table border=\"1\" class=\"dataframe\">\n",
       "  <thead>\n",
       "    <tr style=\"text-align: right;\">\n",
       "      <th></th>\n",
       "      <th>Albania</th>\n",
       "      <th>Argentina</th>\n",
       "      <th>Australia</th>\n",
       "      <th>Austria</th>\n",
       "      <th>Bolivia (Plurinational State of)</th>\n",
       "      <th>Brazil</th>\n",
       "      <th>Bulgaria</th>\n",
       "      <th>Canada</th>\n",
       "      <th>Chile</th>\n",
       "      <th>China, Hong Kong SAR</th>\n",
       "      <th>...</th>\n",
       "      <th>Turkey</th>\n",
       "      <th>United Arab Emirates</th>\n",
       "      <th>United Kingdom</th>\n",
       "      <th>United Republic of Tanzania</th>\n",
       "      <th>United States of America</th>\n",
       "      <th>Unspecified Area</th>\n",
       "      <th>Uruguay</th>\n",
       "      <th>Viet Nam</th>\n",
       "      <th>Zambia</th>\n",
       "      <th>Zimbabwe</th>\n",
       "    </tr>\n",
       "  </thead>\n",
       "  <tbody>\n",
       "    <tr>\n",
       "      <th>Albania</th>\n",
       "      <td>1.000000</td>\n",
       "      <td>-0.248980</td>\n",
       "      <td>0.378905</td>\n",
       "      <td>0.329301</td>\n",
       "      <td>-0.458018</td>\n",
       "      <td>-0.308883</td>\n",
       "      <td>-0.244204</td>\n",
       "      <td>-0.095528</td>\n",
       "      <td>-0.642666</td>\n",
       "      <td>0.211168</td>\n",
       "      <td>...</td>\n",
       "      <td>-0.092797</td>\n",
       "      <td>-0.553951</td>\n",
       "      <td>-0.628145</td>\n",
       "      <td>0.110147</td>\n",
       "      <td>0.273780</td>\n",
       "      <td>-0.227619</td>\n",
       "      <td>0.157038</td>\n",
       "      <td>0.064405</td>\n",
       "      <td>-0.227063</td>\n",
       "      <td>0.004209</td>\n",
       "    </tr>\n",
       "    <tr>\n",
       "      <th>Argentina</th>\n",
       "      <td>-0.248980</td>\n",
       "      <td>1.000000</td>\n",
       "      <td>0.224847</td>\n",
       "      <td>0.149958</td>\n",
       "      <td>-0.060835</td>\n",
       "      <td>-0.122173</td>\n",
       "      <td>0.037820</td>\n",
       "      <td>0.560972</td>\n",
       "      <td>0.158352</td>\n",
       "      <td>0.342575</td>\n",
       "      <td>...</td>\n",
       "      <td>-0.672614</td>\n",
       "      <td>-0.431480</td>\n",
       "      <td>0.062956</td>\n",
       "      <td>-0.221755</td>\n",
       "      <td>0.343430</td>\n",
       "      <td>0.483955</td>\n",
       "      <td>0.163068</td>\n",
       "      <td>0.012213</td>\n",
       "      <td>-0.474609</td>\n",
       "      <td>0.055369</td>\n",
       "    </tr>\n",
       "    <tr>\n",
       "      <th>Australia</th>\n",
       "      <td>0.378905</td>\n",
       "      <td>0.224847</td>\n",
       "      <td>1.000000</td>\n",
       "      <td>0.190880</td>\n",
       "      <td>-0.568754</td>\n",
       "      <td>-0.348874</td>\n",
       "      <td>-0.455748</td>\n",
       "      <td>0.130871</td>\n",
       "      <td>-0.080123</td>\n",
       "      <td>0.096888</td>\n",
       "      <td>...</td>\n",
       "      <td>0.118384</td>\n",
       "      <td>-0.269127</td>\n",
       "      <td>-0.460260</td>\n",
       "      <td>-0.032129</td>\n",
       "      <td>0.307283</td>\n",
       "      <td>0.308575</td>\n",
       "      <td>0.396802</td>\n",
       "      <td>0.420959</td>\n",
       "      <td>-0.452195</td>\n",
       "      <td>0.154729</td>\n",
       "    </tr>\n",
       "    <tr>\n",
       "      <th>Austria</th>\n",
       "      <td>0.329301</td>\n",
       "      <td>0.149958</td>\n",
       "      <td>0.190880</td>\n",
       "      <td>1.000000</td>\n",
       "      <td>-0.166333</td>\n",
       "      <td>-0.320478</td>\n",
       "      <td>0.082535</td>\n",
       "      <td>-0.103264</td>\n",
       "      <td>-0.283566</td>\n",
       "      <td>0.020030</td>\n",
       "      <td>...</td>\n",
       "      <td>-0.308149</td>\n",
       "      <td>-0.402176</td>\n",
       "      <td>-0.201645</td>\n",
       "      <td>-0.028483</td>\n",
       "      <td>0.126872</td>\n",
       "      <td>0.110882</td>\n",
       "      <td>0.069260</td>\n",
       "      <td>-0.124564</td>\n",
       "      <td>-0.212628</td>\n",
       "      <td>0.039243</td>\n",
       "    </tr>\n",
       "    <tr>\n",
       "      <th>Bolivia (Plurinational State of)</th>\n",
       "      <td>-0.458018</td>\n",
       "      <td>-0.060835</td>\n",
       "      <td>-0.568754</td>\n",
       "      <td>-0.166333</td>\n",
       "      <td>1.000000</td>\n",
       "      <td>-0.087203</td>\n",
       "      <td>0.318489</td>\n",
       "      <td>-0.154606</td>\n",
       "      <td>0.246603</td>\n",
       "      <td>0.021161</td>\n",
       "      <td>...</td>\n",
       "      <td>-0.129238</td>\n",
       "      <td>0.292247</td>\n",
       "      <td>0.531207</td>\n",
       "      <td>0.064129</td>\n",
       "      <td>-0.293686</td>\n",
       "      <td>0.042235</td>\n",
       "      <td>-0.192139</td>\n",
       "      <td>-0.251667</td>\n",
       "      <td>0.292330</td>\n",
       "      <td>-0.163658</td>\n",
       "    </tr>\n",
       "    <tr>\n",
       "      <th>...</th>\n",
       "      <td>...</td>\n",
       "      <td>...</td>\n",
       "      <td>...</td>\n",
       "      <td>...</td>\n",
       "      <td>...</td>\n",
       "      <td>...</td>\n",
       "      <td>...</td>\n",
       "      <td>...</td>\n",
       "      <td>...</td>\n",
       "      <td>...</td>\n",
       "      <td>...</td>\n",
       "      <td>...</td>\n",
       "      <td>...</td>\n",
       "      <td>...</td>\n",
       "      <td>...</td>\n",
       "      <td>...</td>\n",
       "      <td>...</td>\n",
       "      <td>...</td>\n",
       "      <td>...</td>\n",
       "      <td>...</td>\n",
       "      <td>...</td>\n",
       "    </tr>\n",
       "    <tr>\n",
       "      <th>Unspecified Area</th>\n",
       "      <td>-0.227619</td>\n",
       "      <td>0.483955</td>\n",
       "      <td>0.308575</td>\n",
       "      <td>0.110882</td>\n",
       "      <td>0.042235</td>\n",
       "      <td>-0.128023</td>\n",
       "      <td>-0.116277</td>\n",
       "      <td>0.115469</td>\n",
       "      <td>0.498537</td>\n",
       "      <td>0.057038</td>\n",
       "      <td>...</td>\n",
       "      <td>-0.176826</td>\n",
       "      <td>0.037184</td>\n",
       "      <td>0.282119</td>\n",
       "      <td>0.237584</td>\n",
       "      <td>0.581881</td>\n",
       "      <td>1.000000</td>\n",
       "      <td>0.329849</td>\n",
       "      <td>0.523530</td>\n",
       "      <td>-0.226484</td>\n",
       "      <td>0.379764</td>\n",
       "    </tr>\n",
       "    <tr>\n",
       "      <th>Uruguay</th>\n",
       "      <td>0.157038</td>\n",
       "      <td>0.163068</td>\n",
       "      <td>0.396802</td>\n",
       "      <td>0.069260</td>\n",
       "      <td>-0.192139</td>\n",
       "      <td>-0.387936</td>\n",
       "      <td>-0.509976</td>\n",
       "      <td>0.406377</td>\n",
       "      <td>-0.081666</td>\n",
       "      <td>0.260637</td>\n",
       "      <td>...</td>\n",
       "      <td>-0.147963</td>\n",
       "      <td>-0.305421</td>\n",
       "      <td>-0.340727</td>\n",
       "      <td>-0.052103</td>\n",
       "      <td>0.356223</td>\n",
       "      <td>0.329849</td>\n",
       "      <td>1.000000</td>\n",
       "      <td>0.300879</td>\n",
       "      <td>-0.463205</td>\n",
       "      <td>0.651302</td>\n",
       "    </tr>\n",
       "    <tr>\n",
       "      <th>Viet Nam</th>\n",
       "      <td>0.064405</td>\n",
       "      <td>0.012213</td>\n",
       "      <td>0.420959</td>\n",
       "      <td>-0.124564</td>\n",
       "      <td>-0.251667</td>\n",
       "      <td>0.213747</td>\n",
       "      <td>-0.315727</td>\n",
       "      <td>-0.100555</td>\n",
       "      <td>0.095041</td>\n",
       "      <td>-0.182976</td>\n",
       "      <td>...</td>\n",
       "      <td>0.327440</td>\n",
       "      <td>0.238586</td>\n",
       "      <td>-0.294767</td>\n",
       "      <td>0.332525</td>\n",
       "      <td>0.486588</td>\n",
       "      <td>0.523530</td>\n",
       "      <td>0.300879</td>\n",
       "      <td>1.000000</td>\n",
       "      <td>-0.141182</td>\n",
       "      <td>0.567653</td>\n",
       "    </tr>\n",
       "    <tr>\n",
       "      <th>Zambia</th>\n",
       "      <td>-0.227063</td>\n",
       "      <td>-0.474609</td>\n",
       "      <td>-0.452195</td>\n",
       "      <td>-0.212628</td>\n",
       "      <td>0.292330</td>\n",
       "      <td>0.398673</td>\n",
       "      <td>0.470642</td>\n",
       "      <td>-0.667879</td>\n",
       "      <td>0.313361</td>\n",
       "      <td>-0.372769</td>\n",
       "      <td>...</td>\n",
       "      <td>0.446050</td>\n",
       "      <td>0.514543</td>\n",
       "      <td>0.315589</td>\n",
       "      <td>0.243796</td>\n",
       "      <td>-0.066749</td>\n",
       "      <td>-0.226484</td>\n",
       "      <td>-0.463205</td>\n",
       "      <td>-0.141182</td>\n",
       "      <td>1.000000</td>\n",
       "      <td>-0.160032</td>\n",
       "    </tr>\n",
       "    <tr>\n",
       "      <th>Zimbabwe</th>\n",
       "      <td>0.004209</td>\n",
       "      <td>0.055369</td>\n",
       "      <td>0.154729</td>\n",
       "      <td>0.039243</td>\n",
       "      <td>-0.163658</td>\n",
       "      <td>0.109955</td>\n",
       "      <td>-0.377641</td>\n",
       "      <td>0.145608</td>\n",
       "      <td>0.159989</td>\n",
       "      <td>-0.200775</td>\n",
       "      <td>...</td>\n",
       "      <td>0.098736</td>\n",
       "      <td>0.001322</td>\n",
       "      <td>-0.250178</td>\n",
       "      <td>0.399187</td>\n",
       "      <td>0.423555</td>\n",
       "      <td>0.379764</td>\n",
       "      <td>0.651302</td>\n",
       "      <td>0.567653</td>\n",
       "      <td>-0.160032</td>\n",
       "      <td>1.000000</td>\n",
       "    </tr>\n",
       "  </tbody>\n",
       "</table>\n",
       "<p>73 rows × 73 columns</p>\n",
       "</div>"
      ],
      "text/plain": [
       "                                   Albania  Argentina  Australia   Austria  \\\n",
       "Albania                           1.000000  -0.248980   0.378905  0.329301   \n",
       "Argentina                        -0.248980   1.000000   0.224847  0.149958   \n",
       "Australia                         0.378905   0.224847   1.000000  0.190880   \n",
       "Austria                           0.329301   0.149958   0.190880  1.000000   \n",
       "Bolivia (Plurinational State of) -0.458018  -0.060835  -0.568754 -0.166333   \n",
       "...                                    ...        ...        ...       ...   \n",
       "Unspecified Area                 -0.227619   0.483955   0.308575  0.110882   \n",
       "Uruguay                           0.157038   0.163068   0.396802  0.069260   \n",
       "Viet Nam                          0.064405   0.012213   0.420959 -0.124564   \n",
       "Zambia                           -0.227063  -0.474609  -0.452195 -0.212628   \n",
       "Zimbabwe                          0.004209   0.055369   0.154729  0.039243   \n",
       "\n",
       "                                  Bolivia (Plurinational State of)    Brazil  \\\n",
       "Albania                                                  -0.458018 -0.308883   \n",
       "Argentina                                                -0.060835 -0.122173   \n",
       "Australia                                                -0.568754 -0.348874   \n",
       "Austria                                                  -0.166333 -0.320478   \n",
       "Bolivia (Plurinational State of)                          1.000000 -0.087203   \n",
       "...                                                            ...       ...   \n",
       "Unspecified Area                                          0.042235 -0.128023   \n",
       "Uruguay                                                  -0.192139 -0.387936   \n",
       "Viet Nam                                                 -0.251667  0.213747   \n",
       "Zambia                                                    0.292330  0.398673   \n",
       "Zimbabwe                                                 -0.163658  0.109955   \n",
       "\n",
       "                                  Bulgaria    Canada     Chile  \\\n",
       "Albania                          -0.244204 -0.095528 -0.642666   \n",
       "Argentina                         0.037820  0.560972  0.158352   \n",
       "Australia                        -0.455748  0.130871 -0.080123   \n",
       "Austria                           0.082535 -0.103264 -0.283566   \n",
       "Bolivia (Plurinational State of)  0.318489 -0.154606  0.246603   \n",
       "...                                    ...       ...       ...   \n",
       "Unspecified Area                 -0.116277  0.115469  0.498537   \n",
       "Uruguay                          -0.509976  0.406377 -0.081666   \n",
       "Viet Nam                         -0.315727 -0.100555  0.095041   \n",
       "Zambia                            0.470642 -0.667879  0.313361   \n",
       "Zimbabwe                         -0.377641  0.145608  0.159989   \n",
       "\n",
       "                                  China, Hong Kong SAR  ...    Turkey  \\\n",
       "Albania                                       0.211168  ... -0.092797   \n",
       "Argentina                                     0.342575  ... -0.672614   \n",
       "Australia                                     0.096888  ...  0.118384   \n",
       "Austria                                       0.020030  ... -0.308149   \n",
       "Bolivia (Plurinational State of)              0.021161  ... -0.129238   \n",
       "...                                                ...  ...       ...   \n",
       "Unspecified Area                              0.057038  ... -0.176826   \n",
       "Uruguay                                       0.260637  ... -0.147963   \n",
       "Viet Nam                                     -0.182976  ...  0.327440   \n",
       "Zambia                                       -0.372769  ...  0.446050   \n",
       "Zimbabwe                                     -0.200775  ...  0.098736   \n",
       "\n",
       "                                  United Arab Emirates  United Kingdom  \\\n",
       "Albania                                      -0.553951       -0.628145   \n",
       "Argentina                                    -0.431480        0.062956   \n",
       "Australia                                    -0.269127       -0.460260   \n",
       "Austria                                      -0.402176       -0.201645   \n",
       "Bolivia (Plurinational State of)              0.292247        0.531207   \n",
       "...                                                ...             ...   \n",
       "Unspecified Area                              0.037184        0.282119   \n",
       "Uruguay                                      -0.305421       -0.340727   \n",
       "Viet Nam                                      0.238586       -0.294767   \n",
       "Zambia                                        0.514543        0.315589   \n",
       "Zimbabwe                                      0.001322       -0.250178   \n",
       "\n",
       "                                  United Republic of Tanzania  \\\n",
       "Albania                                              0.110147   \n",
       "Argentina                                           -0.221755   \n",
       "Australia                                           -0.032129   \n",
       "Austria                                             -0.028483   \n",
       "Bolivia (Plurinational State of)                     0.064129   \n",
       "...                                                       ...   \n",
       "Unspecified Area                                     0.237584   \n",
       "Uruguay                                             -0.052103   \n",
       "Viet Nam                                             0.332525   \n",
       "Zambia                                               0.243796   \n",
       "Zimbabwe                                             0.399187   \n",
       "\n",
       "                                  United States of America  Unspecified Area  \\\n",
       "Albania                                           0.273780         -0.227619   \n",
       "Argentina                                         0.343430          0.483955   \n",
       "Australia                                         0.307283          0.308575   \n",
       "Austria                                           0.126872          0.110882   \n",
       "Bolivia (Plurinational State of)                 -0.293686          0.042235   \n",
       "...                                                    ...               ...   \n",
       "Unspecified Area                                  0.581881          1.000000   \n",
       "Uruguay                                           0.356223          0.329849   \n",
       "Viet Nam                                          0.486588          0.523530   \n",
       "Zambia                                           -0.066749         -0.226484   \n",
       "Zimbabwe                                          0.423555          0.379764   \n",
       "\n",
       "                                   Uruguay  Viet Nam    Zambia  Zimbabwe  \n",
       "Albania                           0.157038  0.064405 -0.227063  0.004209  \n",
       "Argentina                         0.163068  0.012213 -0.474609  0.055369  \n",
       "Australia                         0.396802  0.420959 -0.452195  0.154729  \n",
       "Austria                           0.069260 -0.124564 -0.212628  0.039243  \n",
       "Bolivia (Plurinational State of) -0.192139 -0.251667  0.292330 -0.163658  \n",
       "...                                    ...       ...       ...       ...  \n",
       "Unspecified Area                  0.329849  0.523530 -0.226484  0.379764  \n",
       "Uruguay                           1.000000  0.300879 -0.463205  0.651302  \n",
       "Viet Nam                          0.300879  1.000000 -0.141182  0.567653  \n",
       "Zambia                           -0.463205 -0.141182  1.000000 -0.160032  \n",
       "Zimbabwe                          0.651302  0.567653 -0.160032  1.000000  \n",
       "\n",
       "[73 rows x 73 columns]"
      ]
     },
     "execution_count": 137,
     "metadata": {},
     "output_type": "execute_result"
    }
   ],
   "source": [
    "yeo_johnson.T.corr() # non std"
   ]
  },
  {
   "cell_type": "code",
   "execution_count": 168,
   "metadata": {},
   "outputs": [
    {
     "data": {
      "text/plain": [
       "<AxesSubplot:xlabel='year'>"
      ]
     },
     "execution_count": 168,
     "metadata": {},
     "output_type": "execute_result"
    },
    {
     "data": {
      "image/png": "[encoded data removed]",
      "text/plain": [
       "<Figure size 432x288 with 1 Axes>"
      ]
     },
     "metadata": {
      "needs_background": "light"
     },
     "output_type": "display_data"
    }
   ],
   "source": [
    "yeo_johnson.T['United States of America'].plot()\n",
    "yeo_johnson.T['Albania'].plot()"
   ]
  },
  {
   "cell_type": "code",
   "execution_count": 163,
   "metadata": {},
   "outputs": [
    {
     "data": {
      "text/plain": [
       "<AxesSubplot:xlabel='year'>"
      ]
     },
     "execution_count": 163,
     "metadata": {},
     "output_type": "execute_result"
    },
    {
     "data": {
      "image/png": "[encoded data removed]",
      "text/plain": [
       "<Figure size 432x288 with 1 Axes>"
      ]
     },
     "metadata": {
      "needs_background": "light"
     },
     "output_type": "display_data"
    }
   ],
   "source": [
    "ex_pr['Panama'].plot()\n",
    "ex_pr['Albania'].plot()"
   ]
  },
  {
   "cell_type": "code",
   "execution_count": 164,
   "metadata": {},
   "outputs": [
    {
     "data": {
      "text/plain": [
       "<AxesSubplot:xlabel='year'>"
      ]
     },
     "execution_count": 164,
     "metadata": {},
     "output_type": "execute_result"
    },
    {
     "data": {
      "image/png": "[encoded data removed]",
      "text/plain": [
       "<Figure size 432x288 with 1 Axes>"
      ]
     },
     "metadata": {
      "needs_background": "light"
     },
     "output_type": "display_data"
    }
   ],
   "source": [
    "yeo_johnson.T['Panama'].plot()\n",
    "yeo_johnson.T['Albania'].plot()"
   ]
  },
  {
   "cell_type": "code",
   "execution_count": 46,
   "metadata": {},
   "outputs": [
    {
     "data": {
      "text/html": [
       "<div>\n",
       "<style scoped>\n",
       "    .dataframe tbody tr th:only-of-type {\n",
       "        vertical-align: middle;\n",
       "    }\n",
       "\n",
       "    .dataframe tbody tr th {\n",
       "        vertical-align: top;\n",
       "    }\n",
       "\n",
       "    .dataframe thead th {\n",
       "        text-align: right;\n",
       "    }\n",
       "</style>\n",
       "<table border=\"1\" class=\"dataframe\">\n",
       "  <thead>\n",
       "    <tr style=\"text-align: right;\">\n",
       "      <th></th>\n",
       "      <th>Albania</th>\n",
       "      <th>Argentina</th>\n",
       "      <th>Australia</th>\n",
       "      <th>Austria</th>\n",
       "      <th>Bolivia (Plurinational State of)</th>\n",
       "      <th>Brazil</th>\n",
       "      <th>Bulgaria</th>\n",
       "      <th>Canada</th>\n",
       "      <th>Chile</th>\n",
       "      <th>China, Hong Kong SAR</th>\n",
       "      <th>...</th>\n",
       "      <th>Turkey</th>\n",
       "      <th>United Arab Emirates</th>\n",
       "      <th>United Kingdom</th>\n",
       "      <th>United Republic of Tanzania</th>\n",
       "      <th>United States of America</th>\n",
       "      <th>Unspecified Area</th>\n",
       "      <th>Uruguay</th>\n",
       "      <th>Viet Nam</th>\n",
       "      <th>Zambia</th>\n",
       "      <th>Zimbabwe</th>\n",
       "    </tr>\n",
       "  </thead>\n",
       "  <tbody>\n",
       "    <tr>\n",
       "      <th>Albania</th>\n",
       "      <td>1.000000</td>\n",
       "      <td>-0.266881</td>\n",
       "      <td>-0.019717</td>\n",
       "      <td>-0.090908</td>\n",
       "      <td>-0.147407</td>\n",
       "      <td>-0.232001</td>\n",
       "      <td>-0.003529</td>\n",
       "      <td>0.132053</td>\n",
       "      <td>-0.228673</td>\n",
       "      <td>-0.007858</td>\n",
       "      <td>...</td>\n",
       "      <td>0.011615</td>\n",
       "      <td>0.001005</td>\n",
       "      <td>-0.072310</td>\n",
       "      <td>0.195553</td>\n",
       "      <td>0.406711</td>\n",
       "      <td>-0.019748</td>\n",
       "      <td>-0.201256</td>\n",
       "      <td>0.061245</td>\n",
       "      <td>-0.154291</td>\n",
       "      <td>-0.178013</td>\n",
       "    </tr>\n",
       "    <tr>\n",
       "      <th>Argentina</th>\n",
       "      <td>-0.266881</td>\n",
       "      <td>1.000000</td>\n",
       "      <td>0.029098</td>\n",
       "      <td>0.191101</td>\n",
       "      <td>0.026400</td>\n",
       "      <td>0.135269</td>\n",
       "      <td>0.268515</td>\n",
       "      <td>0.422540</td>\n",
       "      <td>0.098766</td>\n",
       "      <td>0.112102</td>\n",
       "      <td>...</td>\n",
       "      <td>-0.354577</td>\n",
       "      <td>-0.491966</td>\n",
       "      <td>-0.199316</td>\n",
       "      <td>-0.205226</td>\n",
       "      <td>0.034209</td>\n",
       "      <td>-0.000027</td>\n",
       "      <td>-0.199097</td>\n",
       "      <td>-0.107634</td>\n",
       "      <td>-0.010706</td>\n",
       "      <td>-0.023452</td>\n",
       "    </tr>\n",
       "    <tr>\n",
       "      <th>Australia</th>\n",
       "      <td>-0.019717</td>\n",
       "      <td>0.029098</td>\n",
       "      <td>1.000000</td>\n",
       "      <td>0.209660</td>\n",
       "      <td>-0.398345</td>\n",
       "      <td>-0.234130</td>\n",
       "      <td>-0.343622</td>\n",
       "      <td>-0.205303</td>\n",
       "      <td>0.161339</td>\n",
       "      <td>-0.011201</td>\n",
       "      <td>...</td>\n",
       "      <td>0.020839</td>\n",
       "      <td>-0.059594</td>\n",
       "      <td>0.040527</td>\n",
       "      <td>-0.056046</td>\n",
       "      <td>-0.367929</td>\n",
       "      <td>-0.040333</td>\n",
       "      <td>0.063820</td>\n",
       "      <td>0.167445</td>\n",
       "      <td>-0.154445</td>\n",
       "      <td>0.021556</td>\n",
       "    </tr>\n",
       "    <tr>\n",
       "      <th>Austria</th>\n",
       "      <td>-0.090908</td>\n",
       "      <td>0.191101</td>\n",
       "      <td>0.209660</td>\n",
       "      <td>1.000000</td>\n",
       "      <td>-0.191613</td>\n",
       "      <td>-0.145295</td>\n",
       "      <td>-0.173996</td>\n",
       "      <td>-0.014193</td>\n",
       "      <td>-0.195253</td>\n",
       "      <td>-0.213603</td>\n",
       "      <td>...</td>\n",
       "      <td>-0.279016</td>\n",
       "      <td>-0.336991</td>\n",
       "      <td>0.036506</td>\n",
       "      <td>-0.167655</td>\n",
       "      <td>-0.190595</td>\n",
       "      <td>0.016490</td>\n",
       "      <td>0.204817</td>\n",
       "      <td>-0.161298</td>\n",
       "      <td>-0.121979</td>\n",
       "      <td>0.269448</td>\n",
       "    </tr>\n",
       "    <tr>\n",
       "      <th>Bolivia (Plurinational State of)</th>\n",
       "      <td>-0.147407</td>\n",
       "      <td>0.026400</td>\n",
       "      <td>-0.398345</td>\n",
       "      <td>-0.191613</td>\n",
       "      <td>1.000000</td>\n",
       "      <td>-0.215061</td>\n",
       "      <td>0.108816</td>\n",
       "      <td>-0.199520</td>\n",
       "      <td>-0.068824</td>\n",
       "      <td>0.104692</td>\n",
       "      <td>...</td>\n",
       "      <td>-0.193273</td>\n",
       "      <td>0.087436</td>\n",
       "      <td>-0.097665</td>\n",
       "      <td>0.389404</td>\n",
       "      <td>0.161332</td>\n",
       "      <td>0.015000</td>\n",
       "      <td>0.129391</td>\n",
       "      <td>-0.099540</td>\n",
       "      <td>0.201617</td>\n",
       "      <td>-0.061375</td>\n",
       "    </tr>\n",
       "    <tr>\n",
       "      <th>...</th>\n",
       "      <td>...</td>\n",
       "      <td>...</td>\n",
       "      <td>...</td>\n",
       "      <td>...</td>\n",
       "      <td>...</td>\n",
       "      <td>...</td>\n",
       "      <td>...</td>\n",
       "      <td>...</td>\n",
       "      <td>...</td>\n",
       "      <td>...</td>\n",
       "      <td>...</td>\n",
       "      <td>...</td>\n",
       "      <td>...</td>\n",
       "      <td>...</td>\n",
       "      <td>...</td>\n",
       "      <td>...</td>\n",
       "      <td>...</td>\n",
       "      <td>...</td>\n",
       "      <td>...</td>\n",
       "      <td>...</td>\n",
       "      <td>...</td>\n",
       "    </tr>\n",
       "    <tr>\n",
       "      <th>Unspecified Area</th>\n",
       "      <td>-0.019748</td>\n",
       "      <td>-0.000027</td>\n",
       "      <td>-0.040333</td>\n",
       "      <td>0.016490</td>\n",
       "      <td>0.015000</td>\n",
       "      <td>0.050129</td>\n",
       "      <td>-0.059885</td>\n",
       "      <td>-0.023212</td>\n",
       "      <td>0.281497</td>\n",
       "      <td>0.084719</td>\n",
       "      <td>...</td>\n",
       "      <td>0.148994</td>\n",
       "      <td>-0.034430</td>\n",
       "      <td>0.229067</td>\n",
       "      <td>0.294408</td>\n",
       "      <td>0.276532</td>\n",
       "      <td>1.000000</td>\n",
       "      <td>0.192487</td>\n",
       "      <td>0.522587</td>\n",
       "      <td>-0.281807</td>\n",
       "      <td>0.061660</td>\n",
       "    </tr>\n",
       "    <tr>\n",
       "      <th>Uruguay</th>\n",
       "      <td>-0.201256</td>\n",
       "      <td>-0.199097</td>\n",
       "      <td>0.063820</td>\n",
       "      <td>0.204817</td>\n",
       "      <td>0.129391</td>\n",
       "      <td>-0.181207</td>\n",
       "      <td>-0.360890</td>\n",
       "      <td>-0.159071</td>\n",
       "      <td>-0.148643</td>\n",
       "      <td>0.047103</td>\n",
       "      <td>...</td>\n",
       "      <td>-0.241252</td>\n",
       "      <td>-0.068644</td>\n",
       "      <td>0.142287</td>\n",
       "      <td>-0.011866</td>\n",
       "      <td>-0.024960</td>\n",
       "      <td>0.192487</td>\n",
       "      <td>1.000000</td>\n",
       "      <td>-0.001502</td>\n",
       "      <td>-0.033912</td>\n",
       "      <td>0.424587</td>\n",
       "    </tr>\n",
       "    <tr>\n",
       "      <th>Viet Nam</th>\n",
       "      <td>0.061245</td>\n",
       "      <td>-0.107634</td>\n",
       "      <td>0.167445</td>\n",
       "      <td>-0.161298</td>\n",
       "      <td>-0.099540</td>\n",
       "      <td>0.029306</td>\n",
       "      <td>-0.076209</td>\n",
       "      <td>-0.111914</td>\n",
       "      <td>0.081910</td>\n",
       "      <td>0.008192</td>\n",
       "      <td>...</td>\n",
       "      <td>0.342280</td>\n",
       "      <td>0.148341</td>\n",
       "      <td>-0.190814</td>\n",
       "      <td>0.123935</td>\n",
       "      <td>0.110008</td>\n",
       "      <td>0.522587</td>\n",
       "      <td>-0.001502</td>\n",
       "      <td>1.000000</td>\n",
       "      <td>-0.337201</td>\n",
       "      <td>-0.021598</td>\n",
       "    </tr>\n",
       "    <tr>\n",
       "      <th>Zambia</th>\n",
       "      <td>-0.154291</td>\n",
       "      <td>-0.010706</td>\n",
       "      <td>-0.154445</td>\n",
       "      <td>-0.121979</td>\n",
       "      <td>0.201617</td>\n",
       "      <td>0.011077</td>\n",
       "      <td>0.164215</td>\n",
       "      <td>-0.196935</td>\n",
       "      <td>0.106959</td>\n",
       "      <td>-0.110309</td>\n",
       "      <td>...</td>\n",
       "      <td>0.040269</td>\n",
       "      <td>-0.003519</td>\n",
       "      <td>0.146567</td>\n",
       "      <td>-0.033417</td>\n",
       "      <td>-0.002359</td>\n",
       "      <td>-0.281807</td>\n",
       "      <td>-0.033912</td>\n",
       "      <td>-0.337201</td>\n",
       "      <td>1.000000</td>\n",
       "      <td>0.094997</td>\n",
       "    </tr>\n",
       "    <tr>\n",
       "      <th>Zimbabwe</th>\n",
       "      <td>-0.178013</td>\n",
       "      <td>-0.023452</td>\n",
       "      <td>0.021556</td>\n",
       "      <td>0.269448</td>\n",
       "      <td>-0.061375</td>\n",
       "      <td>-0.018383</td>\n",
       "      <td>-0.211919</td>\n",
       "      <td>0.079370</td>\n",
       "      <td>0.180088</td>\n",
       "      <td>-0.127151</td>\n",
       "      <td>...</td>\n",
       "      <td>-0.080980</td>\n",
       "      <td>-0.025460</td>\n",
       "      <td>0.081369</td>\n",
       "      <td>0.008091</td>\n",
       "      <td>-0.154140</td>\n",
       "      <td>0.061660</td>\n",
       "      <td>0.424587</td>\n",
       "      <td>-0.021598</td>\n",
       "      <td>0.094997</td>\n",
       "      <td>1.000000</td>\n",
       "    </tr>\n",
       "  </tbody>\n",
       "</table>\n",
       "<p>73 rows × 73 columns</p>\n",
       "</div>"
      ],
      "text/plain": [
       "                                   Albania  Argentina  Australia   Austria  \\\n",
       "Albania                           1.000000  -0.266881  -0.019717 -0.090908   \n",
       "Argentina                        -0.266881   1.000000   0.029098  0.191101   \n",
       "Australia                        -0.019717   0.029098   1.000000  0.209660   \n",
       "Austria                          -0.090908   0.191101   0.209660  1.000000   \n",
       "Bolivia (Plurinational State of) -0.147407   0.026400  -0.398345 -0.191613   \n",
       "...                                    ...        ...        ...       ...   \n",
       "Unspecified Area                 -0.019748  -0.000027  -0.040333  0.016490   \n",
       "Uruguay                          -0.201256  -0.199097   0.063820  0.204817   \n",
       "Viet Nam                          0.061245  -0.107634   0.167445 -0.161298   \n",
       "Zambia                           -0.154291  -0.010706  -0.154445 -0.121979   \n",
       "Zimbabwe                         -0.178013  -0.023452   0.021556  0.269448   \n",
       "\n",
       "                                  Bolivia (Plurinational State of)    Brazil  \\\n",
       "Albania                                                  -0.147407 -0.232001   \n",
       "Argentina                                                 0.026400  0.135269   \n",
       "Australia                                                -0.398345 -0.234130   \n",
       "Austria                                                  -0.191613 -0.145295   \n",
       "Bolivia (Plurinational State of)                          1.000000 -0.215061   \n",
       "...                                                            ...       ...   \n",
       "Unspecified Area                                          0.015000  0.050129   \n",
       "Uruguay                                                   0.129391 -0.181207   \n",
       "Viet Nam                                                 -0.099540  0.029306   \n",
       "Zambia                                                    0.201617  0.011077   \n",
       "Zimbabwe                                                 -0.061375 -0.018383   \n",
       "\n",
       "                                  Bulgaria    Canada     Chile  \\\n",
       "Albania                          -0.003529  0.132053 -0.228673   \n",
       "Argentina                         0.268515  0.422540  0.098766   \n",
       "Australia                        -0.343622 -0.205303  0.161339   \n",
       "Austria                          -0.173996 -0.014193 -0.195253   \n",
       "Bolivia (Plurinational State of)  0.108816 -0.199520 -0.068824   \n",
       "...                                    ...       ...       ...   \n",
       "Unspecified Area                 -0.059885 -0.023212  0.281497   \n",
       "Uruguay                          -0.360890 -0.159071 -0.148643   \n",
       "Viet Nam                         -0.076209 -0.111914  0.081910   \n",
       "Zambia                            0.164215 -0.196935  0.106959   \n",
       "Zimbabwe                         -0.211919  0.079370  0.180088   \n",
       "\n",
       "                                  China, Hong Kong SAR  ...    Turkey  \\\n",
       "Albania                                      -0.007858  ...  0.011615   \n",
       "Argentina                                     0.112102  ... -0.354577   \n",
       "Australia                                    -0.011201  ...  0.020839   \n",
       "Austria                                      -0.213603  ... -0.279016   \n",
       "Bolivia (Plurinational State of)              0.104692  ... -0.193273   \n",
       "...                                                ...  ...       ...   \n",
       "Unspecified Area                              0.084719  ...  0.148994   \n",
       "Uruguay                                       0.047103  ... -0.241252   \n",
       "Viet Nam                                      0.008192  ...  0.342280   \n",
       "Zambia                                       -0.110309  ...  0.040269   \n",
       "Zimbabwe                                     -0.127151  ... -0.080980   \n",
       "\n",
       "                                  United Arab Emirates  United Kingdom  \\\n",
       "Albania                                       0.001005       -0.072310   \n",
       "Argentina                                    -0.491966       -0.199316   \n",
       "Australia                                    -0.059594        0.040527   \n",
       "Austria                                      -0.336991        0.036506   \n",
       "Bolivia (Plurinational State of)              0.087436       -0.097665   \n",
       "...                                                ...             ...   \n",
       "Unspecified Area                             -0.034430        0.229067   \n",
       "Uruguay                                      -0.068644        0.142287   \n",
       "Viet Nam                                      0.148341       -0.190814   \n",
       "Zambia                                       -0.003519        0.146567   \n",
       "Zimbabwe                                     -0.025460        0.081369   \n",
       "\n",
       "                                  United Republic of Tanzania  \\\n",
       "Albania                                              0.195553   \n",
       "Argentina                                           -0.205226   \n",
       "Australia                                           -0.056046   \n",
       "Austria                                             -0.167655   \n",
       "Bolivia (Plurinational State of)                     0.389404   \n",
       "...                                                       ...   \n",
       "Unspecified Area                                     0.294408   \n",
       "Uruguay                                             -0.011866   \n",
       "Viet Nam                                             0.123935   \n",
       "Zambia                                              -0.033417   \n",
       "Zimbabwe                                             0.008091   \n",
       "\n",
       "                                  United States of America  Unspecified Area  \\\n",
       "Albania                                           0.406711         -0.019748   \n",
       "Argentina                                         0.034209         -0.000027   \n",
       "Australia                                        -0.367929         -0.040333   \n",
       "Austria                                          -0.190595          0.016490   \n",
       "Bolivia (Plurinational State of)                  0.161332          0.015000   \n",
       "...                                                    ...               ...   \n",
       "Unspecified Area                                  0.276532          1.000000   \n",
       "Uruguay                                          -0.024960          0.192487   \n",
       "Viet Nam                                          0.110008          0.522587   \n",
       "Zambia                                           -0.002359         -0.281807   \n",
       "Zimbabwe                                         -0.154140          0.061660   \n",
       "\n",
       "                                   Uruguay  Viet Nam    Zambia  Zimbabwe  \n",
       "Albania                          -0.201256  0.061245 -0.154291 -0.178013  \n",
       "Argentina                        -0.199097 -0.107634 -0.010706 -0.023452  \n",
       "Australia                         0.063820  0.167445 -0.154445  0.021556  \n",
       "Austria                           0.204817 -0.161298 -0.121979  0.269448  \n",
       "Bolivia (Plurinational State of)  0.129391 -0.099540  0.201617 -0.061375  \n",
       "...                                    ...       ...       ...       ...  \n",
       "Unspecified Area                  0.192487  0.522587 -0.281807  0.061660  \n",
       "Uruguay                           1.000000 -0.001502 -0.033912  0.424587  \n",
       "Viet Nam                         -0.001502  1.000000 -0.337201 -0.021598  \n",
       "Zambia                           -0.033912 -0.337201  1.000000  0.094997  \n",
       "Zimbabwe                          0.424587 -0.021598  0.094997  1.000000  \n",
       "\n",
       "[73 rows x 73 columns]"
      ]
     },
     "execution_count": 46,
     "metadata": {},
     "output_type": "execute_result"
    }
   ],
   "source": [
    "yeo_johnson.T.corr() # std true"
   ]
  },
  {
   "cell_type": "code",
   "execution_count": null,
   "metadata": {},
   "outputs": [],
   "source": []
  }
 ],
 "metadata": {
  "kernelspec": {
   "display_name": "geopandas_env",
   "language": "python",
   "name": "geopandas_env"
  },
  "language_info": {
   "codemirror_mode": {
    "name": "ipython",
    "version": 3
   },
   "file_extension": ".py",
   "mimetype": "text/x-python",
   "name": "python",
   "nbconvert_exporter": "python",
   "pygments_lexer": "ipython3",
   "version": "3.7.7"
  }
 },
 "nbformat": 4,
 "nbformat_minor": 4
}
