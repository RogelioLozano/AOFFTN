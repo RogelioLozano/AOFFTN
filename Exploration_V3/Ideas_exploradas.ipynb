{
 "cells": [
  {
   "cell_type": "code",
   "execution_count": 1,
   "metadata": {},
   "outputs": [],
   "source": [
    "import pandas as pd\n",
    "import numpy as np\n",
    "import os \n",
    "import networkx as nx\n",
    "import seaborn as sns\n",
    "import matplotlib.pyplot as plt\n",
    "import sys, os"
   ]
  },
  {
   "cell_type": "code",
   "execution_count": 2,
   "metadata": {},
   "outputs": [],
   "source": [
    "sys.path.insert(1, os.path.join(sys.path[0], '../../../openAi/TS_analysis_TOPIC9/'))"
   ]
  },
  {
   "cell_type": "code",
   "execution_count": 3,
   "metadata": {},
   "outputs": [],
   "source": [
    "from pyts_utils import proximity_tools\n",
    "from pyts_utils import descriptive_tools\n",
    "from sklearn.decomposition import PCA"
   ]
  },
  {
   "cell_type": "code",
   "execution_count": 4,
   "metadata": {},
   "outputs": [],
   "source": [
    "af=pd.read_csv('antifragilidades_datasets/af.csv')"
   ]
  },
  {
   "cell_type": "code",
   "execution_count": 5,
   "metadata": {},
   "outputs": [
    {
     "data": {
      "text/html": [
       "<div>\n",
       "<style scoped>\n",
       "    .dataframe tbody tr th:only-of-type {\n",
       "        vertical-align: middle;\n",
       "    }\n",
       "\n",
       "    .dataframe tbody tr th {\n",
       "        vertical-align: top;\n",
       "    }\n",
       "\n",
       "    .dataframe thead th {\n",
       "        text-align: right;\n",
       "    }\n",
       "</style>\n",
       "<table border=\"1\" class=\"dataframe\">\n",
       "  <thead>\n",
       "    <tr style=\"text-align: right;\">\n",
       "      <th></th>\n",
       "      <th>af_in_pr</th>\n",
       "      <th>af_in_vl</th>\n",
       "      <th>af_ex_pr</th>\n",
       "      <th>af_ex_vl</th>\n",
       "      <th>af_in_pr2</th>\n",
       "      <th>af_in_vl2</th>\n",
       "      <th>af_ex_pr2</th>\n",
       "      <th>af_ex_vl2</th>\n",
       "    </tr>\n",
       "  </thead>\n",
       "  <tbody>\n",
       "    <tr>\n",
       "      <th>af_in_pr</th>\n",
       "      <td>1.000000</td>\n",
       "      <td>0.671100</td>\n",
       "      <td>-0.047607</td>\n",
       "      <td>-0.011621</td>\n",
       "      <td>0.957643</td>\n",
       "      <td>0.785956</td>\n",
       "      <td>-0.036705</td>\n",
       "      <td>-0.024999</td>\n",
       "    </tr>\n",
       "    <tr>\n",
       "      <th>af_in_vl</th>\n",
       "      <td>0.671100</td>\n",
       "      <td>1.000000</td>\n",
       "      <td>-0.008078</td>\n",
       "      <td>0.026799</td>\n",
       "      <td>0.774187</td>\n",
       "      <td>0.959194</td>\n",
       "      <td>-0.003471</td>\n",
       "      <td>0.016606</td>\n",
       "    </tr>\n",
       "    <tr>\n",
       "      <th>af_ex_pr</th>\n",
       "      <td>-0.047607</td>\n",
       "      <td>-0.008078</td>\n",
       "      <td>1.000000</td>\n",
       "      <td>0.692871</td>\n",
       "      <td>-0.038237</td>\n",
       "      <td>-0.015104</td>\n",
       "      <td>0.957657</td>\n",
       "      <td>0.802626</td>\n",
       "    </tr>\n",
       "    <tr>\n",
       "      <th>af_ex_vl</th>\n",
       "      <td>-0.011621</td>\n",
       "      <td>0.026799</td>\n",
       "      <td>0.692871</td>\n",
       "      <td>1.000000</td>\n",
       "      <td>-0.002612</td>\n",
       "      <td>0.016074</td>\n",
       "      <td>0.789997</td>\n",
       "      <td>0.957202</td>\n",
       "    </tr>\n",
       "    <tr>\n",
       "      <th>af_in_pr2</th>\n",
       "      <td>0.957643</td>\n",
       "      <td>0.774187</td>\n",
       "      <td>-0.038237</td>\n",
       "      <td>-0.002612</td>\n",
       "      <td>1.000000</td>\n",
       "      <td>0.823725</td>\n",
       "      <td>-0.028250</td>\n",
       "      <td>-0.014912</td>\n",
       "    </tr>\n",
       "    <tr>\n",
       "      <th>af_in_vl2</th>\n",
       "      <td>0.785956</td>\n",
       "      <td>0.959194</td>\n",
       "      <td>-0.015104</td>\n",
       "      <td>0.016074</td>\n",
       "      <td>0.823725</td>\n",
       "      <td>1.000000</td>\n",
       "      <td>-0.009681</td>\n",
       "      <td>0.004890</td>\n",
       "    </tr>\n",
       "    <tr>\n",
       "      <th>af_ex_pr2</th>\n",
       "      <td>-0.036705</td>\n",
       "      <td>-0.003471</td>\n",
       "      <td>0.957657</td>\n",
       "      <td>0.789997</td>\n",
       "      <td>-0.028250</td>\n",
       "      <td>-0.009681</td>\n",
       "      <td>1.000000</td>\n",
       "      <td>0.831397</td>\n",
       "    </tr>\n",
       "    <tr>\n",
       "      <th>af_ex_vl2</th>\n",
       "      <td>-0.024999</td>\n",
       "      <td>0.016606</td>\n",
       "      <td>0.802626</td>\n",
       "      <td>0.957202</td>\n",
       "      <td>-0.014912</td>\n",
       "      <td>0.004890</td>\n",
       "      <td>0.831397</td>\n",
       "      <td>1.000000</td>\n",
       "    </tr>\n",
       "  </tbody>\n",
       "</table>\n",
       "</div>"
      ],
      "text/plain": [
       "           af_in_pr  af_in_vl  af_ex_pr  af_ex_vl  af_in_pr2  af_in_vl2  \\\n",
       "af_in_pr   1.000000  0.671100 -0.047607 -0.011621   0.957643   0.785956   \n",
       "af_in_vl   0.671100  1.000000 -0.008078  0.026799   0.774187   0.959194   \n",
       "af_ex_pr  -0.047607 -0.008078  1.000000  0.692871  -0.038237  -0.015104   \n",
       "af_ex_vl  -0.011621  0.026799  0.692871  1.000000  -0.002612   0.016074   \n",
       "af_in_pr2  0.957643  0.774187 -0.038237 -0.002612   1.000000   0.823725   \n",
       "af_in_vl2  0.785956  0.959194 -0.015104  0.016074   0.823725   1.000000   \n",
       "af_ex_pr2 -0.036705 -0.003471  0.957657  0.789997  -0.028250  -0.009681   \n",
       "af_ex_vl2 -0.024999  0.016606  0.802626  0.957202  -0.014912   0.004890   \n",
       "\n",
       "           af_ex_pr2  af_ex_vl2  \n",
       "af_in_pr   -0.036705  -0.024999  \n",
       "af_in_vl   -0.003471   0.016606  \n",
       "af_ex_pr    0.957657   0.802626  \n",
       "af_ex_vl    0.789997   0.957202  \n",
       "af_in_pr2  -0.028250  -0.014912  \n",
       "af_in_vl2  -0.009681   0.004890  \n",
       "af_ex_pr2   1.000000   0.831397  \n",
       "af_ex_vl2   0.831397   1.000000  "
      ]
     },
     "execution_count": 5,
     "metadata": {},
     "output_type": "execute_result"
    }
   ],
   "source": [
    "af.iloc[:,2:].corr()"
   ]
  },
  {
   "cell_type": "markdown",
   "metadata": {},
   "source": [
    "Desde las correlaciones vemos que ex e in contienen informacion distinta matematicamente, sin embargo dado el algoritmo de calculo de antifragilidad, podemos considerar que poseen la misma informacion sobre la antifragilidad de los paises en el tiempo? Entonces nos quedamos solo con ex por tener mas datos. Para conservar la mayor cantidad de informacion de antifragilidad data por volumen o precio, podemos projectar al primer PCA considerando las dimensiones af_ex_pr, af_ex_vl"
   ]
  },
  {
   "cell_type": "code",
   "execution_count": 6,
   "metadata": {},
   "outputs": [],
   "source": [
    "af = af.rename(columns={'Unnamed: 0':'country','Unnamed: 1':'year'})"
   ]
  },
  {
   "cell_type": "code",
   "execution_count": 7,
   "metadata": {},
   "outputs": [],
   "source": [
    "af=af.iloc[:,[0,1,4,5,8,9]]"
   ]
  },
  {
   "cell_type": "code",
   "execution_count": 8,
   "metadata": {},
   "outputs": [
    {
     "data": {
      "text/html": [
       "<div>\n",
       "<style scoped>\n",
       "    .dataframe tbody tr th:only-of-type {\n",
       "        vertical-align: middle;\n",
       "    }\n",
       "\n",
       "    .dataframe tbody tr th {\n",
       "        vertical-align: top;\n",
       "    }\n",
       "\n",
       "    .dataframe thead th {\n",
       "        text-align: right;\n",
       "    }\n",
       "</style>\n",
       "<table border=\"1\" class=\"dataframe\">\n",
       "  <thead>\n",
       "    <tr style=\"text-align: right;\">\n",
       "      <th></th>\n",
       "      <th>af_ex_pr</th>\n",
       "      <th>af_ex_vl</th>\n",
       "      <th>af_ex_pr2</th>\n",
       "      <th>af_ex_vl2</th>\n",
       "    </tr>\n",
       "  </thead>\n",
       "  <tbody>\n",
       "    <tr>\n",
       "      <th>af_ex_pr</th>\n",
       "      <td>1.000000</td>\n",
       "      <td>0.692871</td>\n",
       "      <td>0.957657</td>\n",
       "      <td>0.802626</td>\n",
       "    </tr>\n",
       "    <tr>\n",
       "      <th>af_ex_vl</th>\n",
       "      <td>0.692871</td>\n",
       "      <td>1.000000</td>\n",
       "      <td>0.789997</td>\n",
       "      <td>0.957202</td>\n",
       "    </tr>\n",
       "    <tr>\n",
       "      <th>af_ex_pr2</th>\n",
       "      <td>0.957657</td>\n",
       "      <td>0.789997</td>\n",
       "      <td>1.000000</td>\n",
       "      <td>0.831397</td>\n",
       "    </tr>\n",
       "    <tr>\n",
       "      <th>af_ex_vl2</th>\n",
       "      <td>0.802626</td>\n",
       "      <td>0.957202</td>\n",
       "      <td>0.831397</td>\n",
       "      <td>1.000000</td>\n",
       "    </tr>\n",
       "  </tbody>\n",
       "</table>\n",
       "</div>"
      ],
      "text/plain": [
       "           af_ex_pr  af_ex_vl  af_ex_pr2  af_ex_vl2\n",
       "af_ex_pr   1.000000  0.692871   0.957657   0.802626\n",
       "af_ex_vl   0.692871  1.000000   0.789997   0.957202\n",
       "af_ex_pr2  0.957657  0.789997   1.000000   0.831397\n",
       "af_ex_vl2  0.802626  0.957202   0.831397   1.000000"
      ]
     },
     "execution_count": 8,
     "metadata": {},
     "output_type": "execute_result"
    }
   ],
   "source": [
    "af.iloc[:,2:].corr()"
   ]
  },
  {
   "cell_type": "code",
   "execution_count": 9,
   "metadata": {},
   "outputs": [],
   "source": [
    "toproject_af=af.dropna(axis=0)"
   ]
  },
  {
   "cell_type": "code",
   "execution_count": 11,
   "metadata": {},
   "outputs": [],
   "source": [
    "pca=PCA(n_components=1).fit(toproject_af.iloc[:,2:])"
   ]
  },
  {
   "cell_type": "code",
   "execution_count": 12,
   "metadata": {},
   "outputs": [],
   "source": [
    "clean_afs = pca.fit_transform(toproject_af.iloc[:,2:])"
   ]
  },
  {
   "cell_type": "code",
   "execution_count": 13,
   "metadata": {},
   "outputs": [
    {
     "data": {
      "text/plain": [
       "array([0.87781833])"
      ]
     },
     "execution_count": 13,
     "metadata": {},
     "output_type": "execute_result"
    }
   ],
   "source": [
    "pca.explained_variance_ratio_.cumsum()"
   ]
  },
  {
   "cell_type": "code",
   "execution_count": 13,
   "metadata": {},
   "outputs": [],
   "source": [
    "clean_afs = pd.DataFrame(data=clean_afs,columns=['af_ex_pca'])"
   ]
  },
  {
   "cell_type": "code",
   "execution_count": 14,
   "metadata": {},
   "outputs": [],
   "source": [
    "clean_afs['country'] = toproject_af.reset_index()['country']\n",
    "clean_afs['year'] = toproject_af.reset_index()['year']"
   ]
  },
  {
   "cell_type": "code",
   "execution_count": 19,
   "metadata": {},
   "outputs": [],
   "source": [
    "# clean_afs.to_csv('af_ex_pca.csv')"
   ]
  },
  {
   "cell_type": "markdown",
   "metadata": {},
   "source": [
    "Tenemos 184 paises importadores y 244 paises exportadores."
   ]
  },
  {
   "cell_type": "markdown",
   "metadata": {},
   "source": [
    "Podria ser el caso que los paises que tenemos mas paises exportadores que importadores debido a que los paises que exportan se puede suponer que lo hacen porque les conviene y les sobra los suficiente para ademas poder exportar. Los importadores podemos pensar que importan porque lo necesitan? Podria significar que los paises que no tienen muchos registros como importadores podrian ser los NO-fragiles debido a que no necesitan importar cosas para estar bien?? Los paises que aparecen como importadores pocas veces, aparecen como exportadores muchas veces? Existe esa simetria?? O son asimetricos y pasa que aunque aparescan pocas veces como importadores, tambien aparecen pocos registros de ellos como exportadores??"
   ]
  },
  {
   "cell_type": "code",
   "execution_count": 52,
   "metadata": {},
   "outputs": [],
   "source": [
    "ex_pr = af.pivot_table(index='year',columns='country',values='af_ex_pr')"
   ]
  },
  {
   "cell_type": "code",
   "execution_count": 83,
   "metadata": {},
   "outputs": [],
   "source": [
    "from sklearn.preprocessing import power_transform"
   ]
  },
  {
   "cell_type": "code",
   "execution_count": 186,
   "metadata": {},
   "outputs": [
    {
     "name": "stderr",
     "output_type": "stream",
     "text": [
      "/home/rogelio/anaconda3/envs/geopandas_env/lib/python3.7/site-packages/sklearn/preprocessing/_data.py:2995: RuntimeWarning: divide by zero encountered in log\n",
      "  loglike = -n_samples / 2 * np.log(x_trans.var())\n"
     ]
    }
   ],
   "source": [
    "yeo_johnson=power_transform(ex_pr.dropna(axis=1).T,standardize=False)"
   ]
  },
  {
   "cell_type": "code",
   "execution_count": 187,
   "metadata": {},
   "outputs": [],
   "source": [
    "yeo_johnson = pd.DataFrame(data=yeo_johnson,index=ex_pr.dropna(axis=1).columns.values,columns=ex_pr.dropna(axis=1).index)"
   ]
  }
 ],
 "metadata": {
  "kernelspec": {
   "display_name": "geopandas_env",
   "language": "python",
   "name": "geopandas_env"
  },
  "language_info": {
   "codemirror_mode": {
    "name": "ipython",
    "version": 3
   },
   "file_extension": ".py",
   "mimetype": "text/x-python",
   "name": "python",
   "nbconvert_exporter": "python",
   "pygments_lexer": "ipython3",
   "version": "3.7.7"
  }
 },
 "nbformat": 4,
 "nbformat_minor": 4
}
